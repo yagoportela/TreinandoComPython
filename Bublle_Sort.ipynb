{
 "cells": [
  {
   "cell_type": "markdown",
   "metadata": {},
   "source": [
    "Ordenação:\n",
    "O Bubble Sort baseia-se na ideia de comparar repetidamente pares de elementos adjacentes e, em seguida, trocar as suas posições se existirem na ordem errada.\n",
    "\n",
    "\n",
    "![Bublle Sort](Imagens/Bublle_Sort.webp)\n"
   ]
  },
  {
   "cell_type": "code",
   "execution_count": 1,
   "metadata": {},
   "outputs": [],
   "source": [
    "import random"
   ]
  },
  {
   "cell_type": "code",
   "execution_count": 2,
   "metadata": {},
   "outputs": [],
   "source": [
    "entrada_dados_1 = [random.randint(0, 10) for _ in range(10)]\n",
    "entrada_dados_2 = [random.randint(0, 10) for _ in range(10)]\n",
    "n = len(entrada_dados_1)"
   ]
  },
  {
   "cell_type": "markdown",
   "metadata": {},
   "source": [
    "Primeira forma de ser feito"
   ]
  },
  {
   "cell_type": "code",
   "execution_count": 3,
   "metadata": {},
   "outputs": [
    {
     "name": "stdout",
     "output_type": "stream",
     "text": [
      "[2, 0, 1, 4, 7, 1, 5, 0, 2, 3]\n",
      "[0, 0, 1, 1, 2, 2, 3, 4, 5, 7]\n"
     ]
    }
   ],
   "source": [
    "evento_continua = True\n",
    "print(entrada_dados_1)\n",
    "\n",
    "while(evento_continua):\n",
    "    evento_continua = False\n",
    "    for i in range(0, n-1):\n",
    "        if(entrada_dados_1[i] > entrada_dados_1[i+1]):\n",
    "            aux = entrada_dados_1[i]\n",
    "            entrada_dados_1[i] = entrada_dados_1[i + 1]\n",
    "            entrada_dados_1[i + 1] = aux\n",
    "            evento_continua = True\n",
    "\n",
    "print(entrada_dados_1)\n"
   ]
  },
  {
   "cell_type": "markdown",
   "metadata": {},
   "source": [
    "Segunda forma de ser feito"
   ]
  },
  {
   "cell_type": "code",
   "execution_count": 4,
   "metadata": {},
   "outputs": [
    {
     "name": "stdout",
     "output_type": "stream",
     "text": [
      "[5, 3, 3, 9, 3, 10, 3, 5, 4, 6]\n",
      "[3, 3, 3, 3, 4, 5, 5, 6, 9, 10]\n"
     ]
    }
   ],
   "source": [
    "print(entrada_dados_2)\n",
    "for i in range(n):\n",
    "    for j in range(0, n - i - 1):\n",
    "        if entrada_dados_2[j] > entrada_dados_2[j + 1]:\n",
    "            entrada_dados_2[j], entrada_dados_2[j + 1] = entrada_dados_2[j + 1], entrada_dados_2[j]\n",
    "\n",
    "print(entrada_dados_2)\n"
   ]
  }
 ],
 "metadata": {
  "kernelspec": {
   "display_name": ".venv",
   "language": "python",
   "name": "python3"
  },
  "language_info": {
   "codemirror_mode": {
    "name": "ipython",
    "version": 3
   },
   "file_extension": ".py",
   "mimetype": "text/x-python",
   "name": "python",
   "nbconvert_exporter": "python",
   "pygments_lexer": "ipython3",
   "version": "3.10.8"
  }
 },
 "nbformat": 4,
 "nbformat_minor": 2
}
