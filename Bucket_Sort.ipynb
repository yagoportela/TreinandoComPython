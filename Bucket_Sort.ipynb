{
 "cells": [
  {
   "cell_type": "markdown",
   "metadata": {},
   "source": [
    "Ordenação:\n",
    "O Bucket Sort é uma técnica de ordenação que divide os elementos em grupos, ou baldes. Estes baldes são formados pela distribuição uniforme dos elementos. Uma vez que os elementos são divididos em baldes, podem ser ordenados utilizando qualquer outro algoritmo de ordenação. Finalmente, os elementos ordenados são reunidos de forma ordenada.\n",
    "\n",
    "![Bucket Sort](Imagens/Bucket_Sort.webp)\n"
   ]
  },
  {
   "cell_type": "code",
   "execution_count": 301,
   "metadata": {},
   "outputs": [],
   "source": [
    "import math\n",
    "import random"
   ]
  },
  {
   "cell_type": "code",
   "execution_count": 302,
   "metadata": {},
   "outputs": [
    {
     "name": "stdout",
     "output_type": "stream",
     "text": [
      "200000\n"
     ]
    }
   ],
   "source": [
    "entrada_dados = [random.randint(0, 200000) for _ in range(200000)]\n",
    "print(len(entrada_dados))"
   ]
  },
  {
   "cell_type": "code",
   "execution_count": 303,
   "metadata": {},
   "outputs": [],
   "source": [
    "def Order_Bucket_Sort(list_para_bucket, chamadas):\n",
    "\n",
    "    if(chamadas == 2000):# limitando chamadas recursivas\n",
    "        return sorted(list_para_bucket)\n",
    "\n",
    "    bucket_dictionary = {}\n",
    "    tamanho_lista_para_bucket = len(list_para_bucket)\n",
    "\n",
    "    for i in range(tamanho_lista_para_bucket):\n",
    "        bucket = math.floor(list_para_bucket[i] / 5)# criando chave bucket, arredondando para baixo\n",
    "\n",
    "        if(bucket not in bucket_dictionary):# se bucket não existir criar um novo\n",
    "            bucket_dictionary[bucket] = [list_para_bucket[i]] \n",
    "        else:\n",
    "            while(len(bucket_dictionary[bucket]) > 10000): # Colocando no máximo até 10000 em cada bucket\n",
    "                bucket += 0.1\n",
    "\n",
    "            bucket_dictionary[bucket].append(list_para_bucket[i])\n",
    "\n",
    "    for dic in bucket_dictionary:\n",
    "        if(len(bucket_dictionary[dic]) > 1000):\n",
    "            # Se a quantidade for maior que 1000, chamando novo bucket sort\n",
    "            bucket_dictionary[dic] = Order_Bucket_Sort(bucket_dictionary[dic], chamadas+1)\n",
    "        else:\n",
    "            # Ordenando valores dentro do bucket\n",
    "            bucket_dictionary[dic] = sorted(bucket_dictionary[dic])\n",
    "\n",
    "    lista_ordenada = sorted(bucket_dictionary.items())# ordenar bucket\n",
    "    dicionario_ordenado = dict(lista_ordenada)# lista para bucket\n",
    "\n",
    "    lista = []\n",
    "    for valor in dicionario_ordenado.values():# concatenar apenas valor dos bucket\n",
    "        lista.extend(valor)\n",
    "\n",
    "    return lista"
   ]
  },
  {
   "cell_type": "code",
   "execution_count": 304,
   "metadata": {},
   "outputs": [
    {
     "name": "stdout",
     "output_type": "stream",
     "text": [
      "200000\n"
     ]
    }
   ],
   "source": [
    "lista_bucket_sort_ordenado = Order_Bucket_Sort(entrada_dados, 1)\n",
    "print(len(lista_bucket_sort_ordenado))"
   ]
  },
  {
   "cell_type": "code",
   "execution_count": 305,
   "metadata": {},
   "outputs": [
    {
     "name": "stdout",
     "output_type": "stream",
     "text": [
      "200000\n"
     ]
    }
   ],
   "source": [
    "result_sort = sorted(entrada_dados)\n",
    "print(len(result_sort))"
   ]
  },
  {
   "cell_type": "code",
   "execution_count": 306,
   "metadata": {},
   "outputs": [],
   "source": [
    "for i in range(len(result_sort)):\n",
    "    if(result_sort[i] != lista_bucket_sort_ordenado[i]):\n",
    "        print(i)"
   ]
  }
 ],
 "metadata": {
  "kernelspec": {
   "display_name": ".venv",
   "language": "python",
   "name": "python3"
  },
  "language_info": {
   "codemirror_mode": {
    "name": "ipython",
    "version": 3
   },
   "file_extension": ".py",
   "mimetype": "text/x-python",
   "name": "python",
   "nbconvert_exporter": "python",
   "pygments_lexer": "ipython3",
   "version": "3.10.8"
  }
 },
 "nbformat": 4,
 "nbformat_minor": 2
}
