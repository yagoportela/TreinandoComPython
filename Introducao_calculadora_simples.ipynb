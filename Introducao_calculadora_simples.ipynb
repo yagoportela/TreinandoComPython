{
 "cells": [
  {
   "cell_type": "code",
   "execution_count": 64,
   "metadata": {},
   "outputs": [
    {
     "name": "stdout",
     "output_type": "stream",
     "text": [
      "Bem-vindo à calculadora\n"
     ]
    }
   ],
   "source": [
    "print(\"Bem-vindo à calculadora\")"
   ]
  },
  {
   "cell_type": "code",
   "execution_count": 65,
   "metadata": {},
   "outputs": [],
   "source": [
    "def Capturar_entrada_input(txt_input):\n",
    "    while True:\n",
    "        entrada_dado = input(txt_input)\n",
    "        if(entrada_dado.isdigit()):\n",
    "            return float(entrada_dado)\n",
    "        else:\n",
    "            print(\"Entrada inválida\")"
   ]
  },
  {
   "cell_type": "code",
   "execution_count": 66,
   "metadata": {},
   "outputs": [],
   "source": [
    "def Capturar_entrada_operacao(txt_input):\n",
    "    while True:\n",
    "        entrada_dado = input(txt_input)\n",
    "        if(entrada_dado in ['+', '-', '*', '/']):\n",
    "            return entrada_dado\n",
    "        else:\n",
    "            print(\"Entrada inválida\")"
   ]
  },
  {
   "cell_type": "code",
   "execution_count": 67,
   "metadata": {},
   "outputs": [
    {
     "name": "stdout",
     "output_type": "stream",
     "text": [
      "Entrada inválida\n"
     ]
    }
   ],
   "source": [
    "primeiro_numero = Capturar_entrada_input(\"insira o primeiro numero\")\n",
    "segundo_numero = Capturar_entrada_input(\"insira o segundo numero\")\n",
    "operacao = Capturar_entrada_operacao(\"insira a operação\")"
   ]
  },
  {
   "cell_type": "code",
   "execution_count": 68,
   "metadata": {},
   "outputs": [],
   "source": [
    "resultado = 1.0\n",
    "if(operacao == \"*\"):\n",
    "    resultado = primeiro_numero * segundo_numero\n",
    "elif(operacao == \"/\"):\n",
    "    resultado = primeiro_numero / segundo_numero\n",
    "elif(operacao == \"+\"):\n",
    "    resultado = primeiro_numero + segundo_numero\n",
    "elif(operacao == \"-\"):\n",
    "    resultado = primeiro_numero - segundo_numero"
   ]
  },
  {
   "cell_type": "code",
   "execution_count": 69,
   "metadata": {},
   "outputs": [
    {
     "name": "stdout",
     "output_type": "stream",
     "text": [
      "O resultado é : 488.0\n"
     ]
    }
   ],
   "source": [
    "print(\"O resultado é :\", resultado)"
   ]
  }
 ],
 "metadata": {
  "kernelspec": {
   "display_name": ".venv",
   "language": "python",
   "name": "python3"
  },
  "language_info": {
   "codemirror_mode": {
    "name": "ipython",
    "version": 3
   },
   "file_extension": ".py",
   "mimetype": "text/x-python",
   "name": "python",
   "nbconvert_exporter": "python",
   "pygments_lexer": "ipython3",
   "version": "3.10.8"
  }
 },
 "nbformat": 4,
 "nbformat_minor": 2
}
