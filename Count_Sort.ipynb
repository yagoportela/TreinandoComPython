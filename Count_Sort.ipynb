{
 "cells": [
  {
   "cell_type": "markdown",
   "metadata": {},
   "source": [
    "Ordenação:\n",
    "A ordenação por contagem é um algoritmo de ordenação não baseado em comparação que funciona contando o número de ocorrências de cada elemento único no array. Aqui está como funciona:\n",
    "\n",
    " - Encontre o elemento máximo (vamos chamá-lo de max) do array dado.\n",
    " - Inicialize um array de comprimento max+1 com todos os elementos 0. Este array é usado para armazenar a contagem dos elementos no array.\n",
    " - Armazene a contagem de cada elemento em seu respectivo índice no array de contagem.\n",
    " - Armazene a soma cumulativa dos elementos do array de contagem. Isso ajuda a colocar os elementos no índice correto do array ordenado.\n",
    " - Encontre o índice de cada elemento do array original no array de contagem. Isso dá a contagem cumulativa.\n",
    " - Coloque o elemento no índice calculado.\n",
    " - Após colocar cada elemento em sua posição correta, diminua sua contagem em um.\n",
    "\n",
    "![Count Sort](Imagens/Count_Sort.png)\n"
   ]
  },
  {
   "cell_type": "code",
   "execution_count": 37,
   "metadata": {},
   "outputs": [],
   "source": [
    "import random"
   ]
  },
  {
   "cell_type": "code",
   "execution_count": 38,
   "metadata": {},
   "outputs": [
    {
     "name": "stdout",
     "output_type": "stream",
     "text": [
      "10\n"
     ]
    }
   ],
   "source": [
    "entrada_dados = [random.randint(0, 10) for _ in range(10)]\n",
    "print(len(entrada_dados))"
   ]
  },
  {
   "cell_type": "code",
   "execution_count": 39,
   "metadata": {},
   "outputs": [],
   "source": [
    "def counting_sort(valor):\n",
    "    maior_valor = max(valor)\n",
    "    \n",
    "    vetor_temporario = [0] * (maior_valor + 1)\n",
    "\n",
    "    for i in range(len(valor)):\n",
    "        vetor_temporario[valor[i]] += 1\n",
    "\n",
    "    for i in range(1, len(vetor_temporario)):\n",
    "        vetor_temporario[i] += vetor_temporario[i - 1]\n",
    "\n",
    "    vetor_auxiliar = [0] * len(valor)\n",
    "\n",
    "    for j in range(len(valor)):\n",
    "        vetor_auxiliar[vetor_temporario[valor[j]]-1] = valor[j]\n",
    "        vetor_temporario[valor[j]] -= 1\n",
    "\n",
    "    for i in range(len(vetor_auxiliar)):\n",
    "        valor[i] = vetor_auxiliar[i]\n",
    "\n",
    "    return valor"
   ]
  },
  {
   "cell_type": "code",
   "execution_count": 40,
   "metadata": {},
   "outputs": [
    {
     "name": "stdout",
     "output_type": "stream",
     "text": [
      "10\n"
     ]
    }
   ],
   "source": [
    "lista_count_sort_ordenado = counting_sort(entrada_dados)\n",
    "print(len(lista_count_sort_ordenado))"
   ]
  },
  {
   "cell_type": "code",
   "execution_count": 41,
   "metadata": {},
   "outputs": [
    {
     "name": "stdout",
     "output_type": "stream",
     "text": [
      "10\n"
     ]
    }
   ],
   "source": [
    "result_sort = sorted(entrada_dados)\n",
    "print(len(result_sort))"
   ]
  },
  {
   "cell_type": "code",
   "execution_count": 42,
   "metadata": {},
   "outputs": [],
   "source": [
    "for i in range(len(result_sort)):\n",
    "    if(result_sort[i] != lista_count_sort_ordenado[i]):\n",
    "        print(i)"
   ]
  }
 ],
 "metadata": {
  "kernelspec": {
   "display_name": ".venv",
   "language": "python",
   "name": "python3"
  },
  "language_info": {
   "codemirror_mode": {
    "name": "ipython",
    "version": 3
   },
   "file_extension": ".py",
   "mimetype": "text/x-python",
   "name": "python",
   "nbconvert_exporter": "python",
   "pygments_lexer": "ipython3",
   "version": "3.10.8"
  }
 },
 "nbformat": 4,
 "nbformat_minor": 2
}
